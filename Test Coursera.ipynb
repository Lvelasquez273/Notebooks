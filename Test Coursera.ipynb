{
    "cells": [
        {
            "cell_type": "markdown",
            "metadata": {},
            "source": "# My Jupyter Notebook on IBM Watson Studio"
        },
        {
            "cell_type": "markdown",
            "metadata": {},
            "source": "**Leonardo Velasquez**"
        },
        {
            "cell_type": "markdown",
            "metadata": {},
            "source": "Data Scientist & Senior Geophysicist  "
        },
        {
            "cell_type": "markdown",
            "metadata": {},
            "source": "*I start this path into the world of data science because I like to sort, analyze and immerse myself in the data gaining insight from it, allowing me to make better decisions and predict the behavior of parameters or variables of interest, promoting improvements in my environment.*"
        },
        {
            "cell_type": "markdown",
            "metadata": {},
            "source": "### This code makes sum between two numbers (3 and 2)"
        },
        {
            "cell_type": "code",
            "execution_count": 2,
            "metadata": {},
            "outputs": [
                {
                    "name": "stdout",
                    "output_type": "stream",
                    "text": "5\n"
                }
            ],
            "source": "print(3+2)"
        },
        {
            "cell_type": "markdown",
            "metadata": {},
            "source": "> Thank you IBM and Coursera!!\n\nI hope publishing my new achievements in data science coming soon in my Linkedin Profile\n[https://www.linkedin.com/in/lvelasquezgeophysicist/](https://www.linkedin.com/in/lvelasquezgeophysicist/)\n---"
        }
    ],
    "metadata": {
        "kernelspec": {
            "display_name": "Python 3.7",
            "language": "python",
            "name": "python3"
        },
        "language_info": {
            "codemirror_mode": {
                "name": "ipython",
                "version": 3
            },
            "file_extension": ".py",
            "mimetype": "text/x-python",
            "name": "python",
            "nbconvert_exporter": "python",
            "pygments_lexer": "ipython3",
            "version": "3.7.9"
        }
    },
    "nbformat": 4,
    "nbformat_minor": 1
}